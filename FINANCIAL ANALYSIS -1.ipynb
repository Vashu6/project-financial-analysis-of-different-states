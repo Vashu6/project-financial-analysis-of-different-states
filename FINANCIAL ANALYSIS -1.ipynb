{
 "cells": [
  {
   "cell_type": "code",
   "execution_count": 1,
   "id": "3bb97da8",
   "metadata": {},
   "outputs": [],
   "source": [
    "import pandas as pd\n",
    "import numpy as np"
   ]
  },
  {
   "cell_type": "code",
   "execution_count": 2,
   "id": "82196139",
   "metadata": {},
   "outputs": [],
   "source": [
    "Aggregate_Expenditure =pd.read_csv(r'C:\\Users\\Neelansh sharma\\Downloads\\MASAI FINANCE PROJECT\\DATA\\Aggregate_Expenditure.csv',encoding='latin1')"
   ]
  },
  {
   "cell_type": "markdown",
   "id": "88cd51ec",
   "metadata": {},
   "source": [
    "# Aggregate_Expenditure"
   ]
  },
  {
   "cell_type": "code",
   "execution_count": 3,
   "id": "fb7997f7",
   "metadata": {},
   "outputs": [
    {
     "data": {
      "text/html": [
       "<div>\n",
       "<style scoped>\n",
       "    .dataframe tbody tr th:only-of-type {\n",
       "        vertical-align: middle;\n",
       "    }\n",
       "\n",
       "    .dataframe tbody tr th {\n",
       "        vertical-align: top;\n",
       "    }\n",
       "\n",
       "    .dataframe thead th {\n",
       "        text-align: right;\n",
       "    }\n",
       "</style>\n",
       "<table border=\"1\" class=\"dataframe\">\n",
       "  <thead>\n",
       "    <tr style=\"text-align: right;\">\n",
       "      <th></th>\n",
       "      <th>State</th>\n",
       "      <th>1980-81</th>\n",
       "      <th>1981-82</th>\n",
       "      <th>1982-83</th>\n",
       "      <th>1983-84</th>\n",
       "      <th>1984-85</th>\n",
       "      <th>1985-86</th>\n",
       "      <th>1986-87</th>\n",
       "      <th>1987-88</th>\n",
       "      <th>1988-89</th>\n",
       "      <th>...</th>\n",
       "      <th>2006-07</th>\n",
       "      <th>2007-08</th>\n",
       "      <th>2008-09</th>\n",
       "      <th>2009-10</th>\n",
       "      <th>2010-11</th>\n",
       "      <th>2011-12</th>\n",
       "      <th>2012-13</th>\n",
       "      <th>2013-14</th>\n",
       "      <th>2014-15 (RE)</th>\n",
       "      <th>2015-16 (BE)</th>\n",
       "    </tr>\n",
       "  </thead>\n",
       "  <tbody>\n",
       "    <tr>\n",
       "      <th>0</th>\n",
       "      <td>Andhra Pradesh</td>\n",
       "      <td>1610</td>\n",
       "      <td>1831</td>\n",
       "      <td>1933</td>\n",
       "      <td>2588</td>\n",
       "      <td>3119</td>\n",
       "      <td>3413</td>\n",
       "      <td>4068</td>\n",
       "      <td>4294</td>\n",
       "      <td>5223</td>\n",
       "      <td>...</td>\n",
       "      <td>56648</td>\n",
       "      <td>74875</td>\n",
       "      <td>80804</td>\n",
       "      <td>85075</td>\n",
       "      <td>100636</td>\n",
       "      <td>115882</td>\n",
       "      <td>129441</td>\n",
       "      <td>136629</td>\n",
       "      <td>111067</td>\n",
       "      <td>112049</td>\n",
       "    </tr>\n",
       "    <tr>\n",
       "      <th>1</th>\n",
       "      <td>Arunachal Pradesh</td>\n",
       "      <td></td>\n",
       "      <td></td>\n",
       "      <td></td>\n",
       "      <td></td>\n",
       "      <td></td>\n",
       "      <td></td>\n",
       "      <td>251</td>\n",
       "      <td>348</td>\n",
       "      <td>326</td>\n",
       "      <td>...</td>\n",
       "      <td>2786</td>\n",
       "      <td>3068</td>\n",
       "      <td>4273</td>\n",
       "      <td>5237</td>\n",
       "      <td>5579</td>\n",
       "      <td>6665</td>\n",
       "      <td>6354</td>\n",
       "      <td>7782</td>\n",
       "      <td>11483</td>\n",
       "      <td>12713</td>\n",
       "    </tr>\n",
       "    <tr>\n",
       "      <th>2</th>\n",
       "      <td>Assam</td>\n",
       "      <td>758</td>\n",
       "      <td>618</td>\n",
       "      <td>691</td>\n",
       "      <td>942</td>\n",
       "      <td>1165</td>\n",
       "      <td>1207</td>\n",
       "      <td>1586</td>\n",
       "      <td>1794</td>\n",
       "      <td>1855</td>\n",
       "      <td>...</td>\n",
       "      <td>13485</td>\n",
       "      <td>15150</td>\n",
       "      <td>17486</td>\n",
       "      <td>24968</td>\n",
       "      <td>25947</td>\n",
       "      <td>30269</td>\n",
       "      <td>33748</td>\n",
       "      <td>37178</td>\n",
       "      <td>64980</td>\n",
       "      <td>63602</td>\n",
       "    </tr>\n",
       "    <tr>\n",
       "      <th>3</th>\n",
       "      <td>Bihar</td>\n",
       "      <td>1791</td>\n",
       "      <td>1871</td>\n",
       "      <td>1940</td>\n",
       "      <td>2144</td>\n",
       "      <td>2408</td>\n",
       "      <td>2966</td>\n",
       "      <td>3360</td>\n",
       "      <td>3914</td>\n",
       "      <td>4324</td>\n",
       "      <td>...</td>\n",
       "      <td>27136</td>\n",
       "      <td>31573</td>\n",
       "      <td>37181</td>\n",
       "      <td>42796</td>\n",
       "      <td>50705</td>\n",
       "      <td>60180</td>\n",
       "      <td>69207</td>\n",
       "      <td>80405</td>\n",
       "      <td>132187</td>\n",
       "      <td>120685</td>\n",
       "    </tr>\n",
       "    <tr>\n",
       "      <th>4</th>\n",
       "      <td>Chhattisgarh</td>\n",
       "      <td></td>\n",
       "      <td></td>\n",
       "      <td></td>\n",
       "      <td></td>\n",
       "      <td></td>\n",
       "      <td></td>\n",
       "      <td></td>\n",
       "      <td></td>\n",
       "      <td></td>\n",
       "      <td>...</td>\n",
       "      <td>11991</td>\n",
       "      <td>15029</td>\n",
       "      <td>17714</td>\n",
       "      <td>21559</td>\n",
       "      <td>23565</td>\n",
       "      <td>28721</td>\n",
       "      <td>34819</td>\n",
       "      <td>39442</td>\n",
       "      <td>55979</td>\n",
       "      <td>65811</td>\n",
       "    </tr>\n",
       "  </tbody>\n",
       "</table>\n",
       "<p>5 rows × 37 columns</p>\n",
       "</div>"
      ],
      "text/plain": [
       "               State 1980-81 1981-82 1982-83 1983-84 1984-85 1985-86 1986-87  \\\n",
       "0    Andhra Pradesh     1610    1831    1933    2588    3119    3413    4068   \n",
       "1  Arunachal Pradesh                                               251   \n",
       "2              Assam     758     618     691     942    1165    1207    1586   \n",
       "3              Bihar    1791    1871    1940    2144    2408    2966    3360   \n",
       "4       Chhattisgarh                                                    \n",
       "\n",
       "  1987-88 1988-89  ... 2006-07 2007-08 2008-09 2009-10 2010-11 2011-12  \\\n",
       "0    4294    5223  ...   56648   74875   80804   85075  100636  115882   \n",
       "1     348     326  ...    2786    3068    4273    5237    5579    6665   \n",
       "2    1794    1855  ...   13485   15150   17486   24968   25947   30269   \n",
       "3    3914    4324  ...   27136   31573   37181   42796   50705   60180   \n",
       "4                ...   11991   15029   17714   21559   23565   28721   \n",
       "\n",
       "  2012-13 2013-14 2014-15 (RE) 2015-16 (BE)  \n",
       "0  129441  136629       111067       112049  \n",
       "1    6354    7782        11483        12713  \n",
       "2   33748   37178        64980        63602  \n",
       "3   69207   80405       132187       120685  \n",
       "4   34819   39442        55979        65811  \n",
       "\n",
       "[5 rows x 37 columns]"
      ]
     },
     "execution_count": 3,
     "metadata": {},
     "output_type": "execute_result"
    }
   ],
   "source": [
    "Aggregate_Expenditure.head()"
   ]
  },
  {
   "cell_type": "code",
   "execution_count": 4,
   "id": "f2467a00",
   "metadata": {},
   "outputs": [],
   "source": [
    "Aggregate_Expenditure.replace(to_replace='',value=0,inplace=True)"
   ]
  },
  {
   "cell_type": "code",
   "execution_count": 5,
   "id": "f6e07eac",
   "metadata": {},
   "outputs": [],
   "source": [
    "col=['1980-81', '1981-82', '1982-83', '1983-84', '1984-85',\n",
    "       '1985-86', '1986-87', '1987-88', '1988-89', '1989-90', '1990-91',\n",
    "       '1991-92', '1992-93', '1993-94', '1994-95', '1995-96', '1996-97',\n",
    "       '1997-98', '1998-99', '1999-00', '2000-01', '2001-02', '2002-03',\n",
    "       '2003-04', '2004-05', '2005-06', '2006-07', '2007-08', '2008-09',\n",
    "       '2009-10', '2010-11', '2011-12', '2012-13', '2013-14', '2014-15 (RE)',\n",
    "       '2015-16 (BE)']\n",
    "for c in col:\n",
    "    Aggregate_Expenditure[c]=pd.to_numeric(Aggregate_Expenditure[c])"
   ]
  },
  {
   "cell_type": "code",
   "execution_count": 6,
   "id": "cf405561",
   "metadata": {},
   "outputs": [],
   "source": [
    "Aggregate_Expenditure.to_csv('Aggregate_Expenditure.csv',index=False,header=False)"
   ]
  },
  {
   "cell_type": "markdown",
   "id": "943b1b03",
   "metadata": {},
   "source": [
    "# Capital_Expenditure"
   ]
  },
  {
   "cell_type": "code",
   "execution_count": 7,
   "id": "12a0cd8c",
   "metadata": {},
   "outputs": [],
   "source": [
    "Capital_Expenditure =pd.read_csv(r'C:\\Users\\Neelansh sharma\\Downloads\\MASAI FINANCE PROJECT\\DATA\\Capital_Expenditure.csv',encoding='latin1')"
   ]
  },
  {
   "cell_type": "code",
   "execution_count": 9,
   "id": "de967a24",
   "metadata": {},
   "outputs": [],
   "source": [
    "Capital_Expenditure.replace(to_replace='',value=0,inplace=True)"
   ]
  },
  {
   "cell_type": "code",
   "execution_count": 10,
   "id": "35c76e92",
   "metadata": {},
   "outputs": [],
   "source": [
    "col=['1980-81', '1981-82', '1982-83', '1983-84', '1984-85',\n",
    "       '1985-86', '1986-87', '1987-88', '1988-89', '1989-90', '1990-91',\n",
    "       '1991-92', '1992-93', '1993-94', '1994-95', '1995-96', '1996-97',\n",
    "       '1997-98', '1998-99', '1999-00', '2000-01', '2001-02', '2002-03',\n",
    "       '2003-04', '2004-05', '2005-06', '2006-07', '2007-08', '2008-09',\n",
    "       '2009-10', '2010-11', '2011-12', '2012-13', '2013-14', '2014-15 (RE)',\n",
    "       '2015-16 (BE)']\n",
    "for c in col:\n",
    "    Capital_Expenditure[c]=pd.to_numeric(Capital_Expenditure[c])"
   ]
  },
  {
   "cell_type": "code",
   "execution_count": 11,
   "id": "7dfbaa55",
   "metadata": {},
   "outputs": [],
   "source": [
    "Capital_Expenditure.to_csv('Capital_Expenditure.csv',index=False,header=False)"
   ]
  },
  {
   "cell_type": "markdown",
   "id": "a6544da2",
   "metadata": {},
   "source": [
    "# Gross_Fiscal_Deficits"
   ]
  },
  {
   "cell_type": "code",
   "execution_count": 13,
   "id": "5716b840",
   "metadata": {},
   "outputs": [],
   "source": [
    "Gross_Fiscal_Deficits =pd.read_csv(r'C:\\Users\\Neelansh sharma\\Downloads\\MASAI FINANCE PROJECT\\DATA\\Gross_Fiscal_Deficits.csv',encoding='latin1')"
   ]
  },
  {
   "cell_type": "code",
   "execution_count": 14,
   "id": "85387d0b",
   "metadata": {},
   "outputs": [],
   "source": [
    "Gross_Fiscal_Deficits.replace(to_replace='',value=0,inplace=True)"
   ]
  },
  {
   "cell_type": "code",
   "execution_count": 15,
   "id": "82219b3d",
   "metadata": {},
   "outputs": [],
   "source": [
    "col=['1980-81', '1981-82', '1982-83', '1983-84', '1984-85',\n",
    "       '1985-86', '1986-87', '1987-88', '1988-89', '1989-90', '1990-91',\n",
    "       '1991-92', '1992-93', '1993-94', '1994-95', '1995-96', '1996-97',\n",
    "       '1997-98', '1998-99', '1999-00', '2000-01', '2001-02', '2002-03',\n",
    "       '2003-04', '2004-05', '2005-06', '2006-07', '2007-08', '2008-09',\n",
    "       '2009-10', '2010-11', '2011-12', '2012-13', '2013-14', '2014-15 (RE)',\n",
    "       '2015-16 (BE)']\n",
    "for c in col:\n",
    "    Gross_Fiscal_Deficits[c]=pd.to_numeric(Gross_Fiscal_Deficits[c])"
   ]
  },
  {
   "cell_type": "code",
   "execution_count": 17,
   "id": "1dc06385",
   "metadata": {},
   "outputs": [],
   "source": [
    "Gross_Fiscal_Deficits.to_csv('Gross_Fiscal_Deficits.csv',index=False,header=False)"
   ]
  },
  {
   "cell_type": "markdown",
   "id": "869c9250",
   "metadata": {},
   "source": [
    "# Nominal_GSDP_Series"
   ]
  },
  {
   "cell_type": "code",
   "execution_count": 18,
   "id": "8e0d3b6f",
   "metadata": {},
   "outputs": [],
   "source": [
    "Nominal_GSDP_Series =pd.read_csv(r'C:\\Users\\Neelansh sharma\\Downloads\\MASAI FINANCE PROJECT\\DATA\\Nominal_GSDP_Series.csv',encoding='latin1')"
   ]
  },
  {
   "cell_type": "code",
   "execution_count": 19,
   "id": "27d67bee",
   "metadata": {},
   "outputs": [],
   "source": [
    "Nominal_GSDP_Series.replace(to_replace='',value=0,inplace=True)"
   ]
  },
  {
   "cell_type": "code",
   "execution_count": 21,
   "id": "b5c07c5a",
   "metadata": {},
   "outputs": [],
   "source": [
    "col=['1980-81', '1981-82', '1982-83', '1983-84', '1984-85',\n",
    "       '1985-86', '1986-87', '1987-88', '1988-89', '1989-90', '1990-91',\n",
    "       '1991-92', '1992-93', '1993-94', '1994-95', '1995-96', '1996-97',\n",
    "       '1997-98', '1998-99', '1999-00', '2000-01', '2001-02', '2002-03',\n",
    "       '2003-04', '2004-05', '2005-06', '2006-07', '2007-08', '2008-09',\n",
    "       '2009-10', '2010-11', '2011-12', '2012-13', '2013-14', '2014-15',\n",
    "       '2015-16']\n",
    "for c in col:\n",
    "    Nominal_GSDP_Series[c]=pd.to_numeric(Nominal_GSDP_Series[c])"
   ]
  },
  {
   "cell_type": "code",
   "execution_count": 22,
   "id": "fba08549",
   "metadata": {},
   "outputs": [],
   "source": [
    "Nominal_GSDP_Series.to_csv('Nominal_GSDP_Series.csv',index=False,header=False)"
   ]
  },
  {
   "cell_type": "markdown",
   "id": "cf5dad6c",
   "metadata": {},
   "source": [
    "# Own_Tax_Revenues"
   ]
  },
  {
   "cell_type": "code",
   "execution_count": 23,
   "id": "2bc65762",
   "metadata": {},
   "outputs": [],
   "source": [
    "Own_Tax_Revenues =pd.read_csv(r'C:\\Users\\Neelansh sharma\\Downloads\\MASAI FINANCE PROJECT\\DATA\\Own_Tax_Revenues.csv',encoding='latin1')"
   ]
  },
  {
   "cell_type": "code",
   "execution_count": 24,
   "id": "8158f54a",
   "metadata": {},
   "outputs": [],
   "source": [
    "Own_Tax_Revenues.replace(to_replace='',value=0,inplace=True)"
   ]
  },
  {
   "cell_type": "code",
   "execution_count": 25,
   "id": "0982c6dd",
   "metadata": {},
   "outputs": [],
   "source": [
    "col=['1980-81', '1981-82', '1982-83', '1983-84', '1984-85',\n",
    "       '1985-86', '1986-87', '1987-88', '1988-89', '1989-90', '1990-91',\n",
    "       '1991-92', '1992-93', '1993-94', '1994-95', '1995-96', '1996-97',\n",
    "       '1997-98', '1998-99', '1999-00', '2000-01', '2001-02', '2002-03',\n",
    "       '2003-04', '2004-05', '2005-06', '2006-07', '2007-08', '2008-09',\n",
    "       '2009-10', '2010-11', '2011-12', '2012-13', '2013-14', '2014-15',\n",
    "       '2015-16']\n",
    "for c in col:\n",
    "    Own_Tax_Revenues[c]=pd.to_numeric(Own_Tax_Revenues[c])"
   ]
  },
  {
   "cell_type": "code",
   "execution_count": 26,
   "id": "e68a6ee7",
   "metadata": {},
   "outputs": [],
   "source": [
    "Own_Tax_Revenues.to_csv('Own_Tax_Revenues.csv',index=False,header=False)"
   ]
  },
  {
   "cell_type": "markdown",
   "id": "7ce84e1a",
   "metadata": {},
   "source": [
    "# Revenue_Deficits"
   ]
  },
  {
   "cell_type": "code",
   "execution_count": 34,
   "id": "7cfed9ba",
   "metadata": {},
   "outputs": [],
   "source": [
    "Revenue_Deficits =pd.read_csv(r'C:\\Users\\Neelansh sharma\\Downloads\\MASAI FINANCE PROJECT\\DATA\\Revenue_Deficits.csv',encoding='latin1')"
   ]
  },
  {
   "cell_type": "code",
   "execution_count": 35,
   "id": "29eb0df3",
   "metadata": {},
   "outputs": [],
   "source": [
    "Revenue_Deficits.replace(to_replace='',value=0,inplace=True)"
   ]
  },
  {
   "cell_type": "code",
   "execution_count": 49,
   "id": "2ba7cbcf",
   "metadata": {},
   "outputs": [],
   "source": [
    "col=['1980-81', '1981-82', '1982-83', '1983-84', '1984-85',\n",
    "       '1985-86', '1986-87', '1987-88', '1988-89', '1989-90', '1990-91',\n",
    "       '1991-92', '1992-93', '1993-94', '1994-95', '1995-96', '1996-97',\n",
    "       '1997-98', '1998-99', '1999-00', '2000-01', '2001-02', '2002-03',\n",
    "       '2003-04', '2004-05', '2005-06', '2006-07', '2007-08', '2008-09',\n",
    "       '2009-10', '2010-11', '2011-12', '2012-13', '2013-14', '2014-15',\n",
    "       '2015-16 (RE)']"
   ]
  },
  {
   "cell_type": "code",
   "execution_count": 50,
   "id": "9bfbb9a0",
   "metadata": {
    "scrolled": true
   },
   "outputs": [],
   "source": [
    "for c in col:\n",
    "    Revenue_Deficits[c]=pd.to_numeric(Revenue_Deficits[c],errors='coerce')"
   ]
  },
  {
   "cell_type": "code",
   "execution_count": 51,
   "id": "80087a44",
   "metadata": {},
   "outputs": [],
   "source": [
    "\n",
    "for c in col:\n",
    "    Own_Tax_Revenues[c]=pd.to_numeric(Revenue_Deficits[c])"
   ]
  },
  {
   "cell_type": "code",
   "execution_count": 52,
   "id": "4dbc2a1c",
   "metadata": {},
   "outputs": [],
   "source": [
    "Revenue_Deficits.to_csv('Revenue_Deficits.csv',index=False,header=False)"
   ]
  },
  {
   "cell_type": "markdown",
   "id": "6d8d9d04",
   "metadata": {},
   "source": [
    "# Revenue_Expenditure"
   ]
  },
  {
   "cell_type": "code",
   "execution_count": 37,
   "id": "18700da4",
   "metadata": {},
   "outputs": [],
   "source": [
    "Revenue_Expenditure =pd.read_csv(r'C:\\Users\\Neelansh sharma\\Downloads\\MASAI FINANCE PROJECT\\DATA\\Revenue_Expenditure.csv',encoding='latin1')"
   ]
  },
  {
   "cell_type": "code",
   "execution_count": 38,
   "id": "29ed6266",
   "metadata": {},
   "outputs": [],
   "source": [
    "Revenue_Expenditure.replace(to_replace='',value=0,inplace=True)"
   ]
  },
  {
   "cell_type": "code",
   "execution_count": 39,
   "id": "c11c08c6",
   "metadata": {},
   "outputs": [],
   "source": [
    "col=['1980-81', '1981-82', '1982-83', '1983-84', '1984-85',\n",
    "       '1985-86', '1986-87', '1987-88', '1988-89', '1989-90', '1990-91',\n",
    "       '1991-92', '1992-93', '1993-94', '1994-95', '1995-96', '1996-97',\n",
    "       '1997-98', '1998-99', '1999-00', '2000-01', '2001-02', '2002-03',\n",
    "       '2003-04', '2004-05', '2005-06', '2006-07', '2007-08', '2008-09',\n",
    "       '2009-10', '2010-11', '2011-12', '2012-13', '2013-14', '2014-15 (RE)',\n",
    "       '2015-16 (BE)']\n",
    "for c in col:\n",
    "    Revenue_Expenditure[c]=pd.to_numeric(Revenue_Expenditure[c])"
   ]
  },
  {
   "cell_type": "code",
   "execution_count": 40,
   "id": "662572d6",
   "metadata": {},
   "outputs": [],
   "source": [
    "Revenue_Expenditure.to_csv('Revenue_Expenditure.csv',index=False,header=False)"
   ]
  },
  {
   "cell_type": "markdown",
   "id": "46a8fc75",
   "metadata": {},
   "source": [
    "# Social_Sector_Expenditure"
   ]
  },
  {
   "cell_type": "code",
   "execution_count": 43,
   "id": "b011dc01",
   "metadata": {},
   "outputs": [],
   "source": [
    "Social_Sector_Expenditure =pd.read_csv(r'C:\\Users\\Neelansh sharma\\Downloads\\MASAI FINANCE PROJECT\\DATA\\Social_Sector_Expenditure.csv',encoding='latin1')"
   ]
  },
  {
   "cell_type": "code",
   "execution_count": 44,
   "id": "9f1767de",
   "metadata": {},
   "outputs": [],
   "source": [
    "Social_Sector_Expenditure.replace(to_replace='',value=0,inplace=True)"
   ]
  },
  {
   "cell_type": "code",
   "execution_count": 45,
   "id": "e9c341e7",
   "metadata": {},
   "outputs": [],
   "source": [
    "col=['1980-81', '1981-82', '1982-83', '1983-84', '1984-85',\n",
    "       '1985-86', '1986-87', '1987-88', '1988-89', '1989-90', '1990-91',\n",
    "       '1991-92', '1992-93', '1993-94', '1994-95', '1995-96', '1996-97',\n",
    "       '1997-98', '1998-99', '1999-00', '2000-01', '2001-02', '2002-03',\n",
    "       '2003-04', '2004-05', '2005-06', '2006-07', '2007-08', '2008-09',\n",
    "       '2009-10', '2010-11', '2011-12', '2012-13', '2013-14', '2014-15',\n",
    "       '2015-16 (RE)']\n",
    "for c in col:\n",
    "    Social_Sector_Expenditure[c]=pd.to_numeric(Social_Sector_Expenditure[c])"
   ]
  },
  {
   "cell_type": "code",
   "execution_count": 46,
   "id": "c13703d2",
   "metadata": {},
   "outputs": [],
   "source": [
    "Social_Sector_Expenditure.to_csv('Social_Sector_Expenditure.csv',index=False,header=False)"
   ]
  },
  {
   "cell_type": "code",
   "execution_count": null,
   "id": "8c03314c",
   "metadata": {},
   "outputs": [],
   "source": []
  }
 ],
 "metadata": {
  "kernelspec": {
   "display_name": "Python 3 (ipykernel)",
   "language": "python",
   "name": "python3"
  },
  "language_info": {
   "codemirror_mode": {
    "name": "ipython",
    "version": 3
   },
   "file_extension": ".py",
   "mimetype": "text/x-python",
   "name": "python",
   "nbconvert_exporter": "python",
   "pygments_lexer": "ipython3",
   "version": "3.9.12"
  }
 },
 "nbformat": 4,
 "nbformat_minor": 5
}
